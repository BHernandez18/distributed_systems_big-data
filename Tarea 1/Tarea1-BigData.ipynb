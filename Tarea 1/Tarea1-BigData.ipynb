{
 "cells": [
  {
   "cell_type": "markdown",
   "metadata": {},
   "source": [
    "miércoles 22 de abril de 2019\n",
    "\n",
    "_Benjamín Hernández Cortés_  \n",
    "_Departamento de Ingeniería Informática (DIINF)_  \n",
    "_Universidad de Santiago de Chile (USACH)_\n",
    "\n",
    "# Tarea 1 - Distributed systems for Big Data\n",
    "A continuación se presentan las implementaciones de código de los ejercicios asignados al estudiante y que se contemplan en el libro [The Python Workbook](https://link.springer.com/book/10.1007/978-3-319-14240-1) de Ben Stephenson.\n",
    "    \n",
    "## Ejercicio N° 98: Dígitos Hexadecimales y Decimales\n",
    "Escriba dos funciones, **hex2int** e **int2hex**, que conviertan entre dígitos hexadecimales (0, 1, 2, 3, 4, 5, 6, 7, 8, 9, A, B, C, D, E y F) y enteros de base 10. La función hex2int es responsable de convertir una cadena que contiene un solo dígito hexadecimal en un entero de base 10, mientras que la función int2hex es responsable de convertir un entero entre 0 y 15 en un solo dígito hexadecimal. Cada función tomará el valor para convertir como su único parámetro y devolverá el valor convertido como el único resultado de la función. Asegúrese de que la función hex2int funcione correctamente para letras mayúsculas y minúsculas. Sus funciones deberían finalizar el programa con un mensaje de error significativo si se proporciona un parámetro no válido.\n"
   ]
  },
  {
   "cell_type": "code",
   "execution_count": 12,
   "metadata": {},
   "outputs": [],
   "source": [
    "def hex2int(hex_digit):\n",
    "    if not isinstance(hex_digit, str):\n",
    "        print(\"ERROR: El parámetro ingresado no corresponde a un 'string'\")\n",
    "        return -1\n",
    "    hex_digits = ['0','1','2','3','4','5','6','7','8','9','A','B','C','D','E','F']\n",
    "    hex_digit = hex_digit.upper()\n",
    "    if not hex_digit in hex_digits:\n",
    "        print(\"ERROR: El parámetro ingresado no corresponde a un dígito hexadecimal\")\n",
    "        return -1\n",
    "    return hex_digits.index(hex_digit)\n",
    "\n",
    "def int2hex(int_digit):\n",
    "    if not isinstance(int_digit, int):\n",
    "        print(\"ERROR: El parámetro ingresado no corresponde a un 'int'\")\n",
    "        return -1\n",
    "    hex_digits = ['0','1','2','3','4','5','6','7','8','9','A','B','C','D','E','F']\n",
    "    if not (0 <= int_digit <= 15):\n",
    "        print(\"ERROR: El parámetro ingresado no corresponde a un dígito válido para ser convertido en hexadecimal\")\n",
    "        return -1\n",
    "    return hex_digits[int_digit]"
   ]
  },
  {
   "cell_type": "markdown",
   "metadata": {},
   "source": [
    "\n",
    "## Ejercicio N° 114: Números Aleatorios de Lotería\n",
    "Para ganar el primer premio en una lotería en particular, uno debe hacer coincidir los 6 números en su boleto con los 6 números entre 1 y 49 que son sorteados por el organizador de la lotería. Escriba un programa que genere una selección aleatoria de 6 números para un boleto de lotería. Asegúrese de que los 6 números seleccionados no contengan duplicados. Mostrar los números en orden ascendente."
   ]
  },
  {
   "cell_type": "code",
   "execution_count": 13,
   "metadata": {},
   "outputs": [
    {
     "output_type": "stream",
     "name": "stdout",
     "text": "El ticket generado es: [5, 6, 7, 32, 41, 42]\n"
    }
   ],
   "source": [
    "import random\n",
    "def get_lottery_ticket():\n",
    "    i = 0\n",
    "    ticket = list()\n",
    "    while i < 6:\n",
    "        random_number = random.randint(1, 49)\n",
    "        if not (random_number in ticket):\n",
    "            ticket.append(random_number)\n",
    "            i += 1\n",
    "    ticket.sort()\n",
    "    return ticket\n",
    "\n",
    "ticket = get_lottery_ticket()\n",
    "print(\"El ticket generado es:\", ticket)"
   ]
  },
  {
   "cell_type": "markdown",
   "metadata": {},
   "source": [
    "## Ejercicio N° 132: Códigos Postales\n",
    "En un código postal canadiense, el primer, tercer y quinto caracteres son letras, mientras que el segundo, cuarto y sexto caracteres son números. La provincia se puede determinar a partir del primer carácter de un código postal, como se muestra en la siguiente tabla. Actualmente, no hay códigos postales válidos que comiencen con D, F, I, O, Q, U, W o Z.\n",
    "\n",
    "| Provincia             | Primer(os) carácter(es) |\n",
    "|-----------------------|-------------------------|\n",
    "| Newfoundland          | A                       |\n",
    "| Nova Scotia           | B                       |\n",
    "| Prince Edward Island  | C                       |\n",
    "| New Brunswick         | E                       |\n",
    "| Quebec                | G, H y J                |\n",
    "| Ontario               | K, L, M, N y P          |\n",
    "| Manitoba              | R                       |\n",
    "| Saskatchewan          | S                       |\n",
    "| Alberta               | T                       |\n",
    "| British Columbia      | V                       |\n",
    "| Nunavut               | X                       |\n",
    "| Northwest Territories | X                       |\n",
    "| Yukon                 | Y                       |\n",
    "\n",
    "El segundo carácter en un código postal identifica si la dirección es rural o urbana. Si ese carácter es un 0, entonces la dirección es rural. De lo contrario, es urbano.\n",
    "\n",
    "Cree un programa que lea un código postal del usuario y muestre la provincia asociada con él, junto con si la dirección es urbana o rural. Por ejemplo, si el usuario ingresa T2N 1N4, entonces su programa debe indicar que el código postal es para una dirección urbana en Alberta. Si el usuario ingresa X0A 1B2, entonces su programa debe indicar que el código postal es para una dirección rural en Nunavut o los Territorios del Noroeste. Use un diccionario para asignar desde el primer carácter del código postal al nombre de la provincia. Mostrar un mensaje de error significativo si el código postal comienza con un carácter no válido."
   ]
  },
  {
   "cell_type": "code",
   "execution_count": 26,
   "metadata": {},
   "outputs": [
    {
     "output_type": "stream",
     "name": "stdout",
     "text": "El código postal T2N 1N4 pertenece a una dirección urbana de Alberta\n"
    }
   ],
   "source": [
    "postal_codes = {\n",
    "    'A':'Newfoundland',\n",
    "    'B':'Nova Scotia',\n",
    "    'C':'Prince Edward Island',\n",
    "    'E':'New Brunswick',\n",
    "    'G':'Quebec',\n",
    "    'H':'Quebec',\n",
    "    'J':'Quebec',\n",
    "    'K':'Ontario',\n",
    "    'L':'Ontario',\n",
    "    'N':'Ontario',\n",
    "    'M':'Ontario',\n",
    "    'P':'Ontario',\n",
    "    'R':'Manitoba',\n",
    "    'S':'Saskatchewan',\n",
    "    'T':'Alberta',\n",
    "    'V':'British Columbia',\n",
    "    'X':('Nunavut','Northwest Territories'),\n",
    "    'Y':'Yukon'\n",
    "}\n",
    "\n",
    "def check_postal_code(postal_code):\n",
    "    if not isinstance(postal_code, str):\n",
    "        print(\"ERROR: El parámetro ingresado no corresponde a un 'string'\")\n",
    "        return None\n",
    "    province = postal_code[0]\n",
    "    direction_type = postal_code[1]\n",
    "    if not province in postal_codes.keys() or not direction_type.isnumeric():\n",
    "        print(\"ERROR: El código postal contiene un carácter que no es reconocible\")\n",
    "        return None\n",
    "    province = postal_codes[province]\n",
    "    direction_type = int(direction_type)\n",
    "    if direction_type == 0: direction_type = 'rural'\n",
    "    else: direction_type = 'urbana'\n",
    "    return f'El código postal {postal_code} pertenece a una dirección {direction_type} de {province}'\n",
    "\n",
    "postal_code = input('Ingrese un código postal: ')\n",
    "postal_code = check_postal_code(postal_code)\n",
    "print(postal_code)"
   ]
  },
  {
   "cell_type": "markdown",
   "metadata": {},
   "source": [
    "## Ejercicio N° 150: Remover Comentarios\n",
    "Python usa el carácter # para marcar el comienzo de un comentario. El comentario termina al final de la línea que contiene el carácter #. En este ejercicio, creará un programa que eliminará todos los comentarios de un archivo fuente de Python. Verifique cada línea en el archivo para determinar si hay un carácter # presente. Si es así, su programa debería eliminar todos los caracteres del carácter # hasta el final de la línea (ignoraremos la situación en la que el carácter del comentario aparece dentro de una cadena). Guarde el archivo modificado con un nuevo nombre que será ingresado por el usuario. El usuario también ingresará el nombre del archivo de entrada. Asegúrese de que se muestre un mensaje de error apropiado si se encuentra un problema al acceder a los archivos."
   ]
  },
  {
   "cell_type": "markdown",
   "metadata": {},
   "source": [
    "## Ejercicio N° 168: Raíz Cuadrada Recursiva"
   ]
  },
  {
   "cell_type": "code",
   "execution_count": null,
   "metadata": {},
   "outputs": [],
   "source": []
  }
 ],
 "metadata": {
  "kernelspec": {
   "display_name": "Python 3",
   "language": "python",
   "name": "python3"
  },
  "language_info": {
   "codemirror_mode": {
    "name": "ipython",
    "version": 3
   },
   "file_extension": ".py",
   "mimetype": "text/x-python",
   "name": "python",
   "nbconvert_exporter": "python",
   "pygments_lexer": "ipython3",
   "version": "3.7.6-final"
  }
 },
 "nbformat": 4,
 "nbformat_minor": 4
}