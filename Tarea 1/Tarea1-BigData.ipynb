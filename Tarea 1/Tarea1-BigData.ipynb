{
 "cells": [
  {
   "cell_type": "markdown",
   "metadata": {},
   "source": [
    "miércoles 22 de abril de 2019\n",
    "\n",
    "_Benjamín Hernández Cortés_  \n",
    "_Departamento de Ingeniería Informática (DIINF)_  \n",
    "_Universidad de Santiago de Chile (USACH)_\n",
    "\n",
    "# Tarea 1 - Distributed systems for Big Data\n",
    "A continuación se presentan las implementaciones de código de los ejercicios asignados y que se contemplan en el libro [The Python Workbook](https://link.springer.com/book/10.1007/978-3-319-14240-1) de Ben Stephenson.\n",
    "    \n",
    "## Ejercicio N° 43: De Fechas a Nombres de Feriados\n",
    "Canadá tiene tres feriados nacionales que caen en las mismas fechas cada año.\n",
    "\n",
    "| Feriado        | Fecha       |\n",
    "|----------------|-------------|\n",
    "| New year’s day | January 1   |\n",
    "| Canada day     | July 1      |\n",
    "| Christmas day  | December 25 |\n",
    "\n",
    "Escriba un programa que lea un mes y un día del usuario. Si el mes y el día coinciden con uno de los feriados enumerados anteriormente, entonces su programa debería mostrar el nombre del feriado. De lo contrario, su programa debería indicar que el mes y el día ingresados no corresponden a un día festivo de fecha fija."
   ]
  },
  {
   "cell_type": "code",
   "execution_count": 1,
   "metadata": {},
   "outputs": [
    {
     "output_type": "stream",
     "name": "stdout",
     "text": "Nombre del feriado: New year's day\nFecha del feriado: January 1\n"
    }
   ],
   "source": [
    "holidays = {\n",
    "    \"January 1\":\"New year's day\",\n",
    "    \"July 1\":\"Canada day\",\n",
    "    \"December 25\":\"Christmas day\"\n",
    "}\n",
    "\n",
    "month = input(\"Ingrese un mes (EN INGLÉS): \")\n",
    "day = input(\"Ingresa un día para ese mes (i.e. 24): \")\n",
    "date = month.capitalize() + \" \" + day\n",
    "if date in holidays:\n",
    "    print(f\"Nombre del feriado: {holidays[date]}\")\n",
    "    print(f\"Fecha del feriado: {date}\")\n",
    "else:\n",
    "    print(f\"El {date} no corresponde a un día festivo de fecha fija\")"
   ]
  },
  {
   "cell_type": "markdown",
   "metadata": {},
   "source": [
    "## Ejercicio N° 61: Promedio\n",
    "En este ejercicio creará un programa que calcula el promedio de una colección de valores ingresados por el usuario. El usuario ingresará 0 como valor centinela para indicar que no se proporcionarán más valores. Su programa debe mostrar un mensaje de error apropiado si el primer valor ingresado por el usuario es 0."
   ]
  },
  {
   "cell_type": "code",
   "execution_count": 25,
   "metadata": {},
   "outputs": [
    {
     "output_type": "stream",
     "name": "stdout",
     "text": "La colección ingresada es [1, 2, 3, 4, 5]\nEl promedio de la colección es de números es: 3.0\n"
    }
   ],
   "source": [
    "colection = []\n",
    "counter = 0\n",
    "\n",
    "while True:\n",
    "    value = input(\"Ingrese un número a añadir a la colección (Ingrese 0 para finalizar): \")\n",
    "    if value.isdigit():\n",
    "        value = int(value)\n",
    "    if counter is 0 and value is 0:\n",
    "        print(f'ERROR: Debe ingresar por lo menos 1 número a la colección')\n",
    "        break\n",
    "    if value is not 0:\n",
    "        counter += 1\n",
    "        colection.append(value)\n",
    "    else:\n",
    "        break\n",
    "\n",
    "if counter is not 0:\n",
    "    sum = 0\n",
    "    for digit in colection:\n",
    "        sum += digit\n",
    "    average = sum / counter\n",
    "    print(f'La colección ingresada es {colection}')\n",
    "    print(f'El promedio de la colección es de números es: {average}')\n"
   ]
  },
  {
   "cell_type": "markdown",
   "metadata": {},
   "source": [
    "## Ejercicio N° 79: Máximo Entero\n",
    "Cree un programa que comience seleccionando un número entero aleatorio entre 1 y 100. Guarde este número entero como el número máximo encontrado hasta ahora. Después de que se haya seleccionado el entero inicial, genere 99 enteros aleatorios adicionales entre 1 y 100. Verifique cada entero tal como se genera para ver si es mayor que el número máximo encontrado hasta aquí. Si es así, su programa debería actualizar el número máximo encontrado y contar el hecho de que realizó una actualización. Muestra cada número entero después de generarlo. Incluya una notación con esos enteros que representan un nuevo máximo.\n",
    "\n",
    "Después de haber mostrado 100 enteros, su programa debería mostrar el valor máximo encontrado, junto con la cantidad de veces que el valor máximo se actualizó durante el proceso."
   ]
  },
  {
   "cell_type": "code",
   "execution_count": 16,
   "metadata": {},
   "outputs": [
    {
     "output_type": "stream",
     "name": "stdout",
     "text": "62\n80 <== Actualización del máximo\n55\n10\n81 <== Actualización del máximo\n48\n40\n87 <== Actualización del máximo\n88 <== Actualización del máximo\n20\n95 <== Actualización del máximo\n46\n96 <== Actualización del máximo\n50\n76\n88\n28\n18\n12\n28\n71\n65\n75\n92\n73\n90\n49\n50\n39\n71\n42\n24\n61\n54\n96\n80\n70\n55\n57\n9\n88\n67\n69\n94\n20\n99 <== Actualización del máximo\n4\n62\n20\n72\n76\n93\n62\n61\n38\n73\n39\n38\n24\n54\n83\n83\n21\n43\n47\n22\n28\n78\n81\n39\n34\n7\n89\n1\n97\n15\n99\n29\n80\n8\n41\n78\n88\n12\n21\n33\n86\n21\n64\n57\n78\n50\n2\n85\n85\n89\n4\n26\n34\n52\nEl máximo valor encontrado fue: 99\nEl máximo valor fue actualizado 7\n"
    }
   ],
   "source": [
    "import random\n",
    "\n",
    "i = 1\n",
    "previous_maximum = random.randint(1, 100)\n",
    "counter_maximum = 0\n",
    "print(previous_maximum)\n",
    "\n",
    "while i < 100:\n",
    "    actual_maximum = random.randint(1, 100)\n",
    "    output = str(actual_maximum)\n",
    "    if actual_maximum > previous_maximum:\n",
    "        previous_maximum = actual_maximum\n",
    "        output += \" <== Actualización del máximo\"\n",
    "        counter_maximum += 1\n",
    "    print(output)\n",
    "    i += 1\n",
    "\n",
    "print(f'El máximo valor encontrado fue: {previous_maximum}',\n",
    "      f'El máximo valor fue actualizado {counter_maximum}', sep = '\\n')"
   ]
  },
  {
   "cell_type": "markdown",
   "metadata": {},
   "source": [
    "## Ejercicio N° 98: Dígitos Hexadecimales y Decimales\n",
    "Escriba dos funciones, **hex2int** e **int2hex**, que conviertan entre dígitos hexadecimales (0, 1, 2, 3, 4, 5, 6, 7, 8, 9, A, B, C, D, E y F) y enteros de base 10. La función hex2int es responsable de convertir una cadena que contiene un solo dígito hexadecimal en un entero de base 10, mientras que la función int2hex es responsable de convertir un entero entre 0 y 15 en un solo dígito hexadecimal. Cada función tomará el valor para convertir como su único parámetro y devolverá el valor convertido como el único resultado de la función. Asegúrese de que la función hex2int funcione correctamente para letras mayúsculas y minúsculas. Sus funciones deberían finalizar el programa con un mensaje de error significativo si se proporciona un parámetro no válido.\n"
   ]
  },
  {
   "cell_type": "code",
   "execution_count": 27,
   "metadata": {},
   "outputs": [
    {
     "output_type": "stream",
     "name": "stdout",
     "text": "El dígito hexadecimal B es equivalente a 11 en decimal\nEl dígito decimal 15 es equivalente a F en hexadecimal\n"
    }
   ],
   "source": [
    "def hex2int(hex_digit):\n",
    "    if not isinstance(hex_digit, str):\n",
    "        print(\"ERROR: El parámetro ingresado no corresponde a un 'string'\")\n",
    "        return -1\n",
    "    hex_digits = ['0','1','2','3','4','5','6','7','8','9','A','B','C','D','E','F']\n",
    "    hex_digit = hex_digit.upper()\n",
    "    if not hex_digit in hex_digits:\n",
    "        print(\"ERROR: El parámetro ingresado no corresponde a un dígito hexadecimal\")\n",
    "        return -1\n",
    "    return hex_digits.index(hex_digit)\n",
    "\n",
    "def int2hex(int_digit):\n",
    "    if not isinstance(int_digit, int):\n",
    "        print(\"ERROR: El parámetro ingresado no corresponde a un 'int'\")\n",
    "        return -1\n",
    "    hex_digits = ['0','1','2','3','4','5','6','7','8','9','A','B','C','D','E','F']\n",
    "    if not (0 <= int_digit <= 15):\n",
    "        print(\"ERROR: El parámetro ingresado no corresponde a un dígito válido para ser convertido en hexadecimal\")\n",
    "        return -1\n",
    "    return hex_digits[int_digit]\n",
    "\n",
    "hex_digit = input(\"Ingrese el dígito hexadecimal a convertir en decimal: \")\n",
    "int_digit = int(input(\"Ingrese el dígito decimal a convertir en hexadecimal: \"))\n",
    "\n",
    "print(f\"El dígito hexadecimal {hex_digit} es equivalente a {hex2int(hex_digit)} en decimal\")\n",
    "print(f\"El dígito decimal {int_digit} es equivalente a {int2hex(int_digit)} en hexadecimal\")"
   ]
  },
  {
   "cell_type": "markdown",
   "metadata": {},
   "source": [
    "\n",
    "## Ejercicio N° 114: Números Aleatorios de Lotería\n",
    "Para ganar el primer premio en una lotería en particular, uno debe hacer coincidir los 6 números en su boleto con los 6 números entre 1 y 49 que son sorteados por el organizador de la lotería. Escriba un programa que genere una selección aleatoria de 6 números para un boleto de lotería. Asegúrese de que los 6 números seleccionados no contengan duplicados. Mostrar los números en orden ascendente."
   ]
  },
  {
   "cell_type": "code",
   "execution_count": 18,
   "metadata": {},
   "outputs": [
    {
     "output_type": "stream",
     "name": "stdout",
     "text": "El ticket generado es: [7, 19, 32, 38, 39, 42]\n"
    }
   ],
   "source": [
    "import random\n",
    "def get_lottery_ticket():\n",
    "    i = 0\n",
    "    ticket = list()\n",
    "    while i < 6:\n",
    "        random_number = random.randint(1, 49)\n",
    "        if not (random_number in ticket):\n",
    "            ticket.append(random_number)\n",
    "            i += 1\n",
    "    ticket.sort()\n",
    "    return ticket\n",
    "\n",
    "ticket = get_lottery_ticket()\n",
    "print(\"El ticket generado es:\", ticket)"
   ]
  },
  {
   "cell_type": "markdown",
   "metadata": {},
   "source": [
    "## Ejercicio N° 132: Códigos Postales\n",
    "En un código postal canadiense, el primer, tercer y quinto caracteres son letras, mientras que el segundo, cuarto y sexto caracteres son números. La provincia se puede determinar a partir del primer carácter de un código postal, como se muestra en la siguiente tabla. Actualmente, no hay códigos postales válidos que comiencen con D, F, I, O, Q, U, W o Z.\n",
    "\n",
    "| Provincia             | Primer(os) carácter(es) |\n",
    "|-----------------------|-------------------------|\n",
    "| Newfoundland          | A                       |\n",
    "| Nova Scotia           | B                       |\n",
    "| Prince Edward Island  | C                       |\n",
    "| New Brunswick         | E                       |\n",
    "| Quebec                | G, H y J                |\n",
    "| Ontario               | K, L, M, N y P          |\n",
    "| Manitoba              | R                       |\n",
    "| Saskatchewan          | S                       |\n",
    "| Alberta               | T                       |\n",
    "| British Columbia      | V                       |\n",
    "| Nunavut               | X                       |\n",
    "| Northwest Territories | X                       |\n",
    "| Yukon                 | Y                       |\n",
    "\n",
    "El segundo carácter en un código postal identifica si la dirección es rural o urbana. Si ese carácter es un 0, entonces la dirección es rural. De lo contrario, es urbano.\n",
    "\n",
    "Cree un programa que lea un código postal del usuario y muestre la provincia asociada con él, junto con si la dirección es urbana o rural. Por ejemplo, si el usuario ingresa T2N 1N4, entonces su programa debe indicar que el código postal es para una dirección urbana en Alberta. Si el usuario ingresa X0A 1B2, entonces su programa debe indicar que el código postal es para una dirección rural en Nunavut o los Territorios del Noroeste. Use un diccionario para asignar desde el primer carácter del código postal al nombre de la provincia. Mostrar un mensaje de error significativo si el código postal comienza con un carácter no válido."
   ]
  },
  {
   "cell_type": "code",
   "execution_count": 19,
   "metadata": {},
   "outputs": [
    {
     "output_type": "stream",
     "name": "stdout",
     "text": "El código postal T2N 1N4 pertenece a una dirección urbana de Alberta\n"
    }
   ],
   "source": [
    "postal_codes = {\n",
    "    'A':'Newfoundland',\n",
    "    'B':'Nova Scotia',\n",
    "    'C':'Prince Edward Island',\n",
    "    'E':'New Brunswick',\n",
    "    'G':'Quebec',\n",
    "    'H':'Quebec',\n",
    "    'J':'Quebec',\n",
    "    'K':'Ontario',\n",
    "    'L':'Ontario',\n",
    "    'N':'Ontario',\n",
    "    'M':'Ontario',\n",
    "    'P':'Ontario',\n",
    "    'R':'Manitoba',\n",
    "    'S':'Saskatchewan',\n",
    "    'T':'Alberta',\n",
    "    'V':'British Columbia',\n",
    "    'X':('Nunavut','Northwest Territories'),\n",
    "    'Y':'Yukon'\n",
    "}\n",
    "\n",
    "def check_postal_code(postal_code):\n",
    "    if not isinstance(postal_code, str):\n",
    "        print(\"ERROR: El parámetro ingresado no corresponde a un 'string'\")\n",
    "        return None\n",
    "    province = postal_code[0]\n",
    "    direction_type = postal_code[1]\n",
    "    if not province in postal_codes.keys() or not direction_type.isnumeric():\n",
    "        print(\"ERROR: El código postal contiene un carácter que no es reconocible\")\n",
    "        return None\n",
    "    province = postal_codes[province]\n",
    "    direction_type = int(direction_type)\n",
    "    if direction_type == 0: direction_type = 'rural'\n",
    "    else: direction_type = 'urbana'\n",
    "    return f'El código postal {postal_code} pertenece a una dirección {direction_type} de {province}'\n",
    "\n",
    "postal_code = input('Ingrese un código postal: ')\n",
    "postal_code = check_postal_code(postal_code)\n",
    "print(postal_code)"
   ]
  },
  {
   "cell_type": "markdown",
   "metadata": {},
   "source": [
    "## Ejercicio N° 150: Remover Comentarios\n",
    "Python usa el carácter # para marcar el comienzo de un comentario. El comentario termina al final de la línea que contiene el carácter #. En este ejercicio, creará un programa que eliminará todos los comentarios de un archivo fuente de Python. Verifique cada línea en el archivo para determinar si hay un carácter # presente. Si es así, su programa debería eliminar todos los caracteres del carácter # hasta el final de la línea (ignoraremos la situación en la que el carácter del comentario aparece dentro de una cadena). Guarde el archivo modificado con un nuevo nombre que será ingresado por el usuario. El usuario también ingresará el nombre del archivo de entrada. Asegúrese de que se muestre un mensaje de error apropiado si se encuentra un problema al acceder a los archivos."
   ]
  },
  {
   "cell_type": "code",
   "execution_count": 20,
   "metadata": {},
   "outputs": [],
   "source": [
    "import os\n",
    "dirname = os.getcwd() + \"\\\\\"\n",
    "\n",
    "try:\n",
    "    in_name = input(\"Ingrese el nombre de un archivo Python: \")\n",
    "    inf = open(dirname + in_name, 'r')\n",
    "except:\n",
    "    print(\"Se ha encontrado un problema mientras se abría el archivo de entrada.\")\n",
    "    print(\"Saliendo...\")\n",
    "    quit()\n",
    "\n",
    "try:\n",
    "    out_name = input(\"Ingrese el nombre del archivo de salida: \")\n",
    "    outf = open(dirname + out_name, \"w\")\n",
    "except:\n",
    "    print(\"Se ha encontrado un problema mientras se abría el archivo de salida.\")\n",
    "    print(\"Saliendo...\")\n",
    "    quit()\n",
    "\n",
    "try:\n",
    "    for line in inf:\n",
    "        pos = line.find(\"#\")\n",
    "        if pos > -1:\n",
    "            line = line[0 : pos]\n",
    "            line = line + \"\\n\"\n",
    "        outf.write(line)\n",
    "    inf.close()\n",
    "    outf.close()\n",
    "except:\n",
    "    print(\"Se ha encontrado un problema mientras se procesaba el archivo.\")\n",
    "    print(\"Saliendo...\")\n",
    "    quit()"
   ]
  },
  {
   "cell_type": "markdown",
   "metadata": {},
   "source": [
    "## Ejercicio N° 168: Raíz Cuadrada Recursiva\n",
    "Cree una función de raíz cuadrada que tome dos parámetros. El primer parámetro, **n**, será el número para el que se calcula la raíz cuadrada. El segundo parámetro, **guess**, será la estimación actual para la raíz cuadrada. El parámetro **guess** debe tener un valor predeterminado de 1.0. No proporcione un valor predeterminado para el primer parámetro.\n",
    "\n",
    "Su función de raíz cuadrada será recursiva. El caso base ocurre cuando $guess^2$ está dentro de $10^{−12}$ de n. En este caso, su función debe devolver **guess** porque está lo suficientemente cerca de la raíz cuadrada de n. De lo contrario, su función debería devolver el resultado de llamarse recursivamente con n como primer parámetro y $\\frac{guess + \\frac{n}{guess}}{2}$\n",
    "\n",
    "Escriba un programa principal que demuestre su función de raíz cuadrada calculando la raíz cuadrada de varios valores diferentes. Cuando llama a su función de raíz cuadrada desde el programa principal, solo debe pasarle un parámetro para que se use el valor predeterminado para **guess**."
   ]
  },
  {
   "cell_type": "code",
   "execution_count": 24,
   "metadata": {},
   "outputs": [
    {
     "output_type": "stream",
     "name": "stdout",
     "text": "La raíz aproximada de 2 es: 1.414213562373095\n"
    }
   ],
   "source": [
    "def wrong_input_handling(data):\n",
    "    while True:\n",
    "        try:\n",
    "            data = float(data)\n",
    "        except ValueError:\n",
    "            print(\"ERROR: Acaba de ingresar algo no reconocible como un número\")\n",
    "            data = input(\"Ingrese un número positivo: \")\n",
    "            continue\n",
    "        if data < 0:\n",
    "            print(\"ERROR: El algoritmo no permite calcular raíces para número negativos\")\n",
    "            data = input(\"Ingrese un número positivo: \")\n",
    "            continue\n",
    "        else:\n",
    "            break\n",
    "    return data\n",
    "\n",
    "\n",
    "def square_root(number, guess = 1):\n",
    "    number = wrong_input_handling(number)\n",
    "    if number == 0:\n",
    "        return 0\n",
    "    elif number < 0: \n",
    "        return \n",
    "    else:    \n",
    "        if abs(guess**2 - number) < 10**(-12) * number:\n",
    "            return guess\n",
    "        else:\n",
    "            guess = (guess + (number/guess)) / 2\n",
    "            return square_root(number, guess)\n",
    "    \n",
    "number = input(\"Ingrese el número a buscar la raíz: \")\n",
    "print(f\"La raíz aproximada de {number} es: {square_root(number)}\")"
   ]
  },
  {
   "cell_type": "code",
   "execution_count": null,
   "metadata": {},
   "outputs": [],
   "source": []
  }
 ],
 "metadata": {
  "kernelspec": {
   "display_name": "Python 3.7.7 64-bit",
   "language": "python",
   "name": "python37764bit0c7e31711a184ec6a2d7f92b4b0a8038"
  },
  "language_info": {
   "codemirror_mode": {
    "name": "ipython",
    "version": 3
   },
   "file_extension": ".py",
   "mimetype": "text/x-python",
   "name": "python",
   "nbconvert_exporter": "python",
   "pygments_lexer": "ipython3",
   "version": "3.7.7-final"
  }
 },
 "nbformat": 4,
 "nbformat_minor": 4
}